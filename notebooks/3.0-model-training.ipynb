{
 "cells": [
  {
   "cell_type": "code",
   "execution_count": 1,
   "id": "a2347fdc-1959-46d7-b68e-8fe4589c634e",
   "metadata": {},
   "outputs": [
    {
     "name": "stdout",
     "output_type": "stream",
     "text": [
      "Setup complete. Ready to train models.\n"
     ]
    }
   ],
   "source": [
    "# Import Libraries and Setup Path ---\n",
    "import pandas as pd\n",
    "import numpy as np\n",
    "import os\n",
    "import sys\n",
    "\n",
    "module_path = os.path.abspath(os.path.join('..', 'src'))\n",
    "if module_path not in sys.path:\n",
    "    sys.path.append(module_path)\n",
    "\n",
    "from model_training import train_and_log_model\n",
    "\n",
    "print(\"Setup complete. Ready to train models.\")"
   ]
  },
  {
   "cell_type": "code",
   "execution_count": 2,
   "id": "48d4aabd-a79d-4845-aefa-49fa7841daf4",
   "metadata": {},
   "outputs": [
    {
     "name": "stderr",
     "output_type": "stream",
     "text": [
      "2025/07/02 23:17:58 INFO mlflow.tracking.fluent: Experiment with name 'Credit_Risk_Model_Training' does not exist. Creating a new experiment.\n"
     ]
    },
    {
     "name": "stdout",
     "output_type": "stream",
     "text": [
      "Starting model training and MLflow logging...\n",
      "Loading data from: ../data/raw/data.csv\n",
      "\n",
      "RFM Cluster Means (Scaled):\n",
      "         Recency_Scaled  Frequency_Scaled  Monetary_Scaled\n",
      "Cluster                                                   \n",
      "0              0.443276          0.004167         0.002551\n",
      "1              0.080559          0.008996         0.002899\n",
      "2              0.808647          0.001454         0.001040\n",
      "\n",
      "Identified high-risk cluster (based on Risk_Score heuristic): 2\n",
      "Features shape: (95662, 50), Target shape: (95662,)\n",
      "Target distribution (is_high_risk):\n",
      "is_high_risk\n",
      "0    0.944011\n",
      "1    0.055989\n",
      "Name: proportion, dtype: float64\n",
      "X_train shape: (71746, 50), X_test shape: (23916, 50)\n",
      "y_train shape: (71746,), y_test shape: (23916,)\n"
     ]
    },
    {
     "name": "stderr",
     "output_type": "stream",
     "text": [
      "/home/y/Credit Risk Probability/credit-risk-model/.venv/lib/python3.12/site-packages/sklearn/metrics/_classification.py:1706: UndefinedMetricWarning: Precision is ill-defined and being set to 0.0 in labels with no predicted samples. Use `zero_division` parameter to control this behavior.\n",
      "  _warn_prf(average, modifier, f\"{metric.capitalize()} is\", result.shape[0])\n",
      "/home/y/Credit Risk Probability/credit-risk-model/.venv/lib/python3.12/site-packages/sklearn/metrics/_classification.py:1706: UndefinedMetricWarning: Precision is ill-defined and being set to 0.0 in labels with no predicted samples. Use `zero_division` parameter to control this behavior.\n",
      "  _warn_prf(average, modifier, f\"{metric.capitalize()} is\", result.shape[0])\n",
      "/home/y/Credit Risk Probability/credit-risk-model/.venv/lib/python3.12/site-packages/sklearn/metrics/_classification.py:1706: UndefinedMetricWarning: Precision is ill-defined and being set to 0.0 in labels with no predicted samples. Use `zero_division` parameter to control this behavior.\n",
      "  _warn_prf(average, modifier, f\"{metric.capitalize()} is\", result.shape[0])\n",
      "/home/y/Credit Risk Probability/credit-risk-model/.venv/lib/python3.12/site-packages/sklearn/metrics/_classification.py:1706: UndefinedMetricWarning: Precision is ill-defined and being set to 0.0 in labels with no predicted samples. Use `zero_division` parameter to control this behavior.\n",
      "  _warn_prf(average, modifier, f\"{metric.capitalize()} is\", result.shape[0])\n",
      "/home/y/Credit Risk Probability/credit-risk-model/.venv/lib/python3.12/site-packages/sklearn/metrics/_classification.py:1706: UndefinedMetricWarning: Precision is ill-defined and being set to 0.0 in labels with no predicted samples. Use `zero_division` parameter to control this behavior.\n",
      "  _warn_prf(average, modifier, f\"{metric.capitalize()} is\", result.shape[0])\n",
      "/home/y/Credit Risk Probability/credit-risk-model/.venv/lib/python3.12/site-packages/sklearn/metrics/_classification.py:1706: UndefinedMetricWarning: Precision is ill-defined and being set to 0.0 in labels with no predicted samples. Use `zero_division` parameter to control this behavior.\n",
      "  _warn_prf(average, modifier, f\"{metric.capitalize()} is\", result.shape[0])\n",
      "2025/07/02 23:18:03 WARNING mlflow.models.model: `artifact_path` is deprecated. Please use `name` instead.\n"
     ]
    },
    {
     "name": "stdout",
     "output_type": "stream",
     "text": [
      "\n",
      "Classification Report:\n",
      "              precision    recall  f1-score   support\n",
      "\n",
      "           0       0.94      1.00      0.97     22577\n",
      "           1       0.00      0.00      0.00      1339\n",
      "\n",
      "    accuracy                           0.94     23916\n",
      "   macro avg       0.47      0.50      0.49     23916\n",
      "weighted avg       0.89      0.94      0.92     23916\n",
      "\n",
      "ROC AUC Score: 0.7467\n",
      "PR AUC Score: 0.1163\n"
     ]
    },
    {
     "name": "stderr",
     "output_type": "stream",
     "text": [
      "\u001b[31m2025/07/02 23:18:07 WARNING mlflow.models.model: Model logged without a signature and input example. Please set `input_example` parameter when logging the model to auto infer the model signature.\u001b[0m\n"
     ]
    },
    {
     "name": "stdout",
     "output_type": "stream",
     "text": [
      "MLflow Run ID: ba7a9565a0ad45f7b3be31a1a3b44615\n",
      "MLflow Tracking URI: file:///home/y/Credit%20Risk%20Probability/credit-risk-model/notebooks/mlruns\n",
      "Model training and logging complete.\n",
      "\n",
      "Model training function executed. Check MLflow UI for results.\n"
     ]
    }
   ],
   "source": [
    "# Train Model and Log to MLflow \n",
    "raw_data_path_for_training = '../data/raw/data.csv'\n",
    "\n",
    "print(\"Starting model training and MLflow logging...\")\n",
    "train_and_log_model(\n",
    "    data_path=raw_data_path_for_training,\n",
    "    model_name=\"LogisticRegression_Baseline\",\n",
    "    test_size=0.25, \n",
    "    random_state=42,\n",
    "    C=0.1\n",
    ")\n",
    "print(\"\\nModel training function executed. Check MLflow UI for results.\")"
   ]
  },
  {
   "cell_type": "code",
   "execution_count": 3,
   "id": "ff7d9a37-6ddf-421e-acb7-234e9c8cb194",
   "metadata": {},
   "outputs": [
    {
     "name": "stdout",
     "output_type": "stream",
     "text": [
      "To view MLflow UI, open a new terminal (outside of Jupyter Lab) and run:\n",
      "mlflow ui --backend-store-uri file:./mlruns\n",
      "\n",
      "Then, open your web browser and navigate to: http://127.0.0.1:5000\n",
      "\n",
      "Note: The 'mlruns' directory will be created in your project root after the first MLflow run.\n"
     ]
    }
   ],
   "source": [
    "# Instructions to Launch MLflow UI ---\n",
    "print(\"To view MLflow UI, open a new terminal (outside of Jupyter Lab) and run:\")\n",
    "print(\"mlflow ui --backend-store-uri file:./mlruns\")\n",
    "print(\"\\nThen, open your web browser and navigate to: http://127.0.0.1:5000\")\n",
    "print(\"\\nNote: The 'mlruns' directory will be created in your project root after the first MLflow run.\")"
   ]
  },
  {
   "cell_type": "code",
   "execution_count": null,
   "id": "e1a25a25-26cf-4d47-9f71-ff2918f4cb1e",
   "metadata": {},
   "outputs": [],
   "source": []
  }
 ],
 "metadata": {
  "kernelspec": {
   "display_name": "Python (Credit Risk Model)",
   "language": "python",
   "name": "credit_risk_venv"
  },
  "language_info": {
   "codemirror_mode": {
    "name": "ipython",
    "version": 3
   },
   "file_extension": ".py",
   "mimetype": "text/x-python",
   "name": "python",
   "nbconvert_exporter": "python",
   "pygments_lexer": "ipython3",
   "version": "3.12.3"
  }
 },
 "nbformat": 4,
 "nbformat_minor": 5
}
